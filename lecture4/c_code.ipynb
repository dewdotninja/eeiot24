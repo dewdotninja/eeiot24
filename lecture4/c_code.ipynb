{
 "cells": [
  {
   "attachments": {},
   "cell_type": "markdown",
   "metadata": {},
   "source": [
    "<p align=\"left\">\n",
    "<img src=\"https://raw.githubusercontent.com/dewdotninja/exams/main/feng_heading_en.png\" width=400 alt=\"Feng heading\"/>\n",
    "</p>\n",
    "\n",
    "## Lecture 4 C-code : \n",
    "<p />01211271 IAI & IoT\n",
    "<p />Academic year 2024. First semester.\n"
   ]
  },
  {
   "cell_type": "markdown",
   "metadata": {},
   "source": [
    "This notebook contains Arduino C-code for Lecture 4 (Wokwi simulation).\n",
    "\n",
    "1. Embedded \"Hello World\" LED blink."
   ]
  },
  {
   "cell_type": "code",
   "execution_count": null,
   "metadata": {},
   "outputs": [],
   "source": [
    "#define LED 5\n",
    "\n",
    "void setup() {\n",
    "  pinMode(LED, OUTPUT);\n",
    "}\n",
    "\n",
    "void loop() {\n",
    "  digitalWrite(LED, HIGH);\n",
    "  delay(500);\n",
    "  digitalWrite(LED, LOW);\n",
    "  delay(500);\n",
    "}\n"
   ]
  },
  {
   "cell_type": "markdown",
   "metadata": {},
   "source": [
    "2. Digital I/O"
   ]
  },
  {
   "cell_type": "code",
   "execution_count": null,
   "metadata": {},
   "outputs": [],
   "source": [
    "#define LED 5\n",
    "#define SWPIN 4\n",
    "\n",
    "void setup() {\n",
    "  pinMode(LED, OUTPUT);\n",
    "  pinMode(SWPIN,INPUT);\n",
    "  // pinMode(SWPIN,INPUT_PULLUP);\n",
    "}\n",
    "\n",
    "void loop() {\n",
    "  if (digitalRead(SWPIN))  {\n",
    "    digitalWrite(LED, HIGH);\n",
    "  }\n",
    "  else  {\n",
    "    digitalWrite(LED, LOW);\n",
    "  }\n",
    "}\n"
   ]
  },
  {
   "cell_type": "markdown",
   "metadata": {},
   "source": [
    "3. LED dim"
   ]
  },
  {
   "cell_type": "code",
   "execution_count": null,
   "metadata": {},
   "outputs": [],
   "source": [
    "#define LED 5\n",
    "int brightness = 0;\n",
    "int fadeAmount = 10;\n",
    "void setup() {\n",
    "  pinMode(LED, OUTPUT);\n",
    "  //analogWriteResolution(12)  // set resolution if needed\n",
    "}\n",
    "void loop() {\n",
    "  analogWrite(LED, brightness);\n",
    "  brightness = brightness + fadeAmount;\n",
    "  if (brightness <= 0 || brightness >= 255) {\n",
    "  fadeAmount = -fadeAmount;\n",
    " }\n",
    " delay(30);\n",
    "}"
   ]
  },
  {
   "cell_type": "markdown",
   "metadata": {},
   "source": [
    "4. Analog read"
   ]
  },
  {
   "cell_type": "code",
   "execution_count": null,
   "metadata": {},
   "outputs": [],
   "source": [
    "// analogread.ino\n",
    "#define AIN 34\n",
    "int value = 0;\n",
    "\n",
    "\n",
    "void setup() {\n",
    "  Serial.begin(115200);\n",
    "}\n",
    "\n",
    "void loop() {\n",
    "  value = analogRead(AIN);\n",
    "  Serial.print(\"analog value = \");\n",
    "  Serial.println(value);\n",
    "  delay(100);\n",
    "}"
   ]
  },
  {
   "cell_type": "markdown",
   "metadata": {},
   "source": [
    "Exercise 2: combine dim.ino and analog_input.ino \n",
    "such that the potentiometer can be used to adjust \n",
    "LED brightness. "
   ]
  },
  {
   "cell_type": "code",
   "execution_count": null,
   "metadata": {},
   "outputs": [],
   "source": [
    "# your work"
   ]
  },
  {
   "cell_type": "markdown",
   "metadata": {},
   "source": [
    "5. Blink without delay."
   ]
  },
  {
   "cell_type": "code",
   "execution_count": null,
   "metadata": {},
   "outputs": [],
   "source": [
    "#define LED 5\n",
    "#define INTERVAL 1000\n",
    "unsigned long previousMillis = 0;\n",
    "void setup() {\n",
    "    pinMode(LED, OUTPUT);\n",
    "}\n",
    "void loop() {\n",
    "    unsigned long currentMillis = millis();\n",
    "    if(currentMillis - previousMillis > INTERVAL) {\n",
    "        previousMillis = currentMillis;\n",
    "        digitalWrite(LED, !digitalRead(LED));\n",
    "    }\n",
    "}"
   ]
  },
  {
   "cell_type": "markdown",
   "metadata": {},
   "source": [
    "Exercise 3 : Use this method to blink two LEDs at\n",
    "Different rate."
   ]
  },
  {
   "cell_type": "code",
   "execution_count": null,
   "metadata": {},
   "outputs": [],
   "source": [
    "# your work "
   ]
  },
  {
   "cell_type": "markdown",
   "metadata": {},
   "source": [
    "6. Multitasking with schedudler."
   ]
  },
  {
   "cell_type": "code",
   "execution_count": null,
   "metadata": {},
   "outputs": [],
   "source": [
    "#include <TaskScheduler.h>\n",
    "\n",
    "#define PERIOD1 1000\n",
    "#define PERIOD2 100\n",
    "#define LED1 5\n",
    "#define LED2 2\n",
    "\n",
    "void t1Callback();\n",
    "void t2Callback();\n",
    "\n",
    "// Scheduler\n",
    "Scheduler ts;\n",
    "\n",
    "Task t1(PERIOD1, TASK_FOREVER, &t1Callback);\n",
    "Task t2(PERIOD2, TASK_FOREVER, &t2Callback);\n",
    "\n",
    "void setup() {\n",
    "  pinMode(LED1, OUTPUT);\n",
    "  pinMode(LED2, OUTPUT);\n",
    "  ts.init();\n",
    "  ts.addTask(t1);\n",
    "  ts.addTask(t2);\n",
    "  t1.enable();\n",
    "  t2.enable();\n",
    "}\n",
    "\n",
    "void loop() {\n",
    "  ts.execute();\n",
    "\n",
    "}\n",
    "void t1Callback()  {\n",
    "  digitalWrite(LED1, !digitalRead(LED1));\n",
    "}\n",
    "\n",
    "void t2Callback()  {\n",
    "  digitalWrite(LED2, !digitalRead(LED2));\n",
    "}"
   ]
  },
  {
   "cell_type": "code",
   "execution_count": null,
   "metadata": {},
   "outputs": [],
   "source": []
  },
  {
   "cell_type": "code",
   "execution_count": null,
   "metadata": {},
   "outputs": [],
   "source": []
  },
  {
   "cell_type": "code",
   "execution_count": null,
   "metadata": {},
   "outputs": [],
   "source": []
  },
  {
   "cell_type": "markdown",
   "metadata": {},
   "source": [
    "##### Rev. 1A : July 2024"
   ]
  },
  {
   "cell_type": "code",
   "execution_count": null,
   "metadata": {},
   "outputs": [],
   "source": []
  }
 ],
 "metadata": {
  "kernelspec": {
   "display_name": "Python 3 (ipykernel)",
   "language": "python",
   "name": "python3"
  },
  "language_info": {
   "codemirror_mode": {
    "name": "ipython",
    "version": 3
   },
   "file_extension": ".py",
   "mimetype": "text/x-python",
   "name": "python",
   "nbconvert_exporter": "python",
   "pygments_lexer": "ipython3",
   "version": "3.12.3"
  }
 },
 "nbformat": 4,
 "nbformat_minor": 4
}
