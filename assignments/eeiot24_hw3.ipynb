{
 "cells": [
  {
   "attachments": {},
   "cell_type": "markdown",
   "metadata": {},
   "source": [
    "<p align=\"left\">\n",
    "<img src=\"https://raw.githubusercontent.com/dewdotninja/exams/main/feng_heading_en.png\" width=400 alt=\"Feng heading\"/>\n",
    "</p>\n",
    "\n",
    "## Homework 3 : \n",
    "<p /><p />01205479 IoT for EE\n",
    "<p />Academic year 2024. First semester.\n"
   ]
  },
  {
   "cell_type": "markdown",
   "metadata": {},
   "source": [
    "Type your name and student ID in the cell below."
   ]
  },
  {
   "cell_type": "code",
   "execution_count": null,
   "metadata": {},
   "outputs": [],
   "source": []
  },
  {
   "cell_type": "code",
   "execution_count": null,
   "metadata": {},
   "outputs": [],
   "source": [
    "# import libraries you want to use\n",
    "import numpy as np\n",
    "import matplotlib.pyplot as plt"
   ]
  },
  {
   "cell_type": "markdown",
   "metadata": {},
   "source": [
    "***\n",
    "### List of Homework problems (total 10 points)\n",
    "\n",
    "* [P1. (5 points)](#p1)\n",
    "* [P2. (5 points)](#p2)\n",
    "    \n",
    "**Note :** No work on P1 results in zero credit for P2 automatically."
   ]
  },
  {
   "cell_type": "markdown",
   "metadata": {},
   "source": [
    "<a id=\"p1\"></a>\n",
    "#### P1. (5 points)\n",
    "\n",
    "1. Design a level shifter circuit for the wheatstone bridge exercise in lecture 1. (5 points)\n",
    "\n",
    "![\"fig 1\"](https://raw.githubusercontent.com/dewdotninja/sharing-github/master/iaiiot/hw3_fig1.png)\n",
    "\n",
    "**Hint :** Think about this problem. Some of the components in the above circuit are not required.\n",
    "\n",
    "*Show your derivation. No credit if you just give the resistors and VB values without explaining anything, even though they are correct.* \n",
    "\n"
   ]
  },
  {
   "cell_type": "markdown",
   "metadata": {},
   "source": [
    "### Solution"
   ]
  },
  {
   "cell_type": "code",
   "execution_count": null,
   "metadata": {},
   "outputs": [],
   "source": [
    "# Hint : Find Vab ranges as explained in lecture 1\n"
   ]
  },
  {
   "cell_type": "code",
   "execution_count": null,
   "metadata": {},
   "outputs": [],
   "source": []
  },
  {
   "cell_type": "markdown",
   "metadata": {},
   "source": [
    "You may use the following function to verify your answer."
   ]
  },
  {
   "cell_type": "code",
   "execution_count": null,
   "metadata": {},
   "outputs": [],
   "source": [
    "def level_shifter_verify(R1,R2,R3,R4,Vb, Vi_min, Vi_max):\n",
    "    tvec = np.arange(0,1,0.001)\n",
    "    w = 10\n",
    "    Vi_avg = 0.5*(Vi_max + Vi_min)\n",
    "    Vi_peak = Vi_max - Vi_avg\n",
    "    Vi = Vi_peak*np.sin(w*tvec)+Vi_avg # create sin-wave input\n",
    "    Vi_min_txt = \"min={:.2f} Volts\".format(Vi_min)\n",
    "    Vi_max_txt = \"max={:.2f} Volts\".format(Vi_max)\n",
    "\n",
    "    rho = R4/(R3+R4)\n",
    "    k = R2/R1\n",
    "\n",
    "    Vo = rho*(1+k)*Vi - k*Vb\n",
    "    Vo_max = max(Vo)\n",
    "    Vo_min = min(Vo)\n",
    "    Vo_min_txt = \"min={:.2f} Volts\".format(Vo_min)\n",
    "    Vo_max_txt = \"max={:.2f} Volts\".format(Vo_max)\n",
    "\n",
    "    fig, (ax1, ax2) = plt.subplots(2,figsize=(8,8))\n",
    "    fig.suptitle('Level shifter design verification')\n",
    "    ax1.plot(tvec,Vi,'b-')\n",
    "    ax1.grid(True)\n",
    "    ax1.set_ylabel('$V_{in}(t)$')\n",
    "    ax1.text(0.52,Vi_min,Vi_min_txt)\n",
    "    ax1.text(0.2,Vi_max,Vi_max_txt)\n",
    "    \n",
    "    ax2.plot(tvec,Vo,'r-')\n",
    "    ax2.set_xlabel('time (s)')\n",
    "    ax2.set_ylabel('$V_{out}(t)$')\n",
    "    ax2.grid(True)\n",
    "    ax2.text(0.52,Vo_min,Vo_min_txt)\n",
    "    ax2.text(0.2,Vo_max,Vo_max_txt)\n"
   ]
  },
  {
   "cell_type": "markdown",
   "metadata": {},
   "source": [
    "Test with values from your derivation. "
   ]
  },
  {
   "cell_type": "code",
   "execution_count": null,
   "metadata": {},
   "outputs": [],
   "source": [
    "Vb = # from your design \n",
    "R1 = # from your design\n",
    "R2 = # from your design\n",
    "R3 = # from your design\n",
    "R4 = # from your design\n",
    "level_shifter_verify(R1,R2,R3,R4,Vb, Vab_min, Vab_max)"
   ]
  },
  {
   "cell_type": "markdown",
   "metadata": {},
   "source": [
    "<a id=\"p2\"></a>\n",
    "#### P2. (5 points) \n",
    "\n",
    "Before creating a real circuit, you want to simulate your design on EasyEDA website. Construct a simulation diagram as shown in the figure below. \n",
    "\n",
    "![\"fig 2\"](https://raw.githubusercontent.com/dewdotninja/sharing-github/master/iaiiot/hw3_dummy.png)\n",
    "    \n",
    "* A differential amplifier circuit is added at the input to improve signal quality. Proper resistor values are selected \n",
    "for you. \n",
    "\n",
    "* Note that in general it is difficult to find a battery that matches  $V_b$ value exactly. You should not use simple \n",
    "voltage divider because it would affect the operating point of level shifter. An inverting amp circuit acting as a \n",
    "voltage source is convenient. Design such circuit to achieve your value of $V_b$ from standard power supply level \n",
    "such as $\\pm 5$ or $\\pm 12$ volts. In the figure above, you need to select Rb1 and Rb2 to output $V_b$ correctly.\n",
    "\n",
    "**Important:** In order to sign ownership to your work, add your name and student ID as a text anywhere on the \n",
    "schematics, as shown in the figure. Failure to do so results in zero credit!!!\n",
    "\n",
    "Capture screen shots of your circuit diagram and outputs. Upload them to some free online host such as postimg or imgur. Then embed the images on this notebook using the following code.\n",
    "\n",
    "```\n",
    "![\"my figure\"](URL)\n",
    "```\n",
    "The expected outputs should look like in the figures below, when $R_x$ is chosen as 800 and 1200 Ohms, respectively.\n",
    "                                                                                                     \n",
    "![\"Rx = 800 Ohms\"](https://raw.githubusercontent.com/dewdotninja/sharing-github/master/iaiiot/hw3_rx800.png)\n",
    "\n",
    "![\"Rx = 1200 Ohms\"](https://raw.githubusercontent.com/dewdotninja/sharing-github/master/iaiiot/hw3_rx1200.png)\n",
    "\n",
    "### Grade rubric \n",
    "\n",
    "* No derivation of component values in Problem 1 results in zero credit for this part automatically.\n",
    "* Resistor values must be computed correctly to yield expected results.\n",
    "* Name and student ID must be added on schematics as text.\n",
    "* Two figures are embedded on this notebook corresponding to $R_x = $ 800 and 1200 Ohms\n",
    "* Export EasyEDA file, then copy and paste Json code to a cell below.\n",
    "\n",
    "\n",
    "#### Solution"
   ]
  },
  {
   "cell_type": "code",
   "execution_count": null,
   "metadata": {},
   "outputs": [],
   "source": []
  },
  {
   "cell_type": "code",
   "execution_count": null,
   "metadata": {},
   "outputs": [],
   "source": []
  },
  {
   "cell_type": "code",
   "execution_count": null,
   "metadata": {},
   "outputs": [],
   "source": []
  },
  {
   "cell_type": "markdown",
   "metadata": {},
   "source": [
    "Export schematic to EasyEDA file, then copy and paste Json code to the cell below."
   ]
  },
  {
   "cell_type": "code",
   "execution_count": null,
   "metadata": {},
   "outputs": [],
   "source": []
  },
  {
   "cell_type": "code",
   "execution_count": null,
   "metadata": {},
   "outputs": [],
   "source": []
  },
  {
   "cell_type": "markdown",
   "metadata": {},
   "source": [
    "##### Rev. 1A : July 2024"
   ]
  }
 ],
 "metadata": {
  "kernelspec": {
   "display_name": "Python 3 (ipykernel)",
   "language": "python",
   "name": "python3"
  },
  "language_info": {
   "codemirror_mode": {
    "name": "ipython",
    "version": 3
   },
   "file_extension": ".py",
   "mimetype": "text/x-python",
   "name": "python",
   "nbconvert_exporter": "python",
   "pygments_lexer": "ipython3",
   "version": "3.12.3"
  }
 },
 "nbformat": 4,
 "nbformat_minor": 4
}
