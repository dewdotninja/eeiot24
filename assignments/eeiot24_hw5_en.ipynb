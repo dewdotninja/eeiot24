{
 "cells": [
  {
   "attachments": {},
   "cell_type": "markdown",
   "metadata": {},
   "source": [
    "<p align=\"left\">\n",
    "<img src=\"https://raw.githubusercontent.com/dewdotninja/exams/main/feng_heading_en.png\" width=400 alt=\"Feng heading\"/>\n",
    "</p>\n",
    "\n",
    "## Homework 5 : \n",
    "<p />01205479 IoT for EE\n",
    "<p />Academic year 2024. First semester.\n"
   ]
  },
  {
   "cell_type": "markdown",
   "metadata": {},
   "source": [
    "Type your name and student ID in the cell below."
   ]
  },
  {
   "cell_type": "code",
   "execution_count": null,
   "metadata": {},
   "outputs": [],
   "source": []
  },
  {
   "cell_type": "markdown",
   "metadata": {},
   "source": [
    "### P1 (10 points)\n",
    "\n",
    "Implement an IoT device for simple distance measurement application on Wokwi.\n",
    "\n",
    "This device should function as follows:\n",
    "1. Measure distance every 300 milliseconds using HCSR03, then print the values on SSD1306 OLED panel.\n",
    "2. Have a variable mindist to keep minimum distance.  Whenever the measured distance is less than minimum distance, an LED is lid to alert the user.\n",
    "3. mindist can be adjusted via command such as\n",
    "```\n",
    "mindist = xx\n",
    "```\n",
    "Limit value in the range of 5 - 60 cm. \n",
    "\n",
    "**Note :** It's OK if you cannot issue command via serial port. This command is sent from the slider on dashboard.\n",
    "\n",
    "4. Each time a push button switch is pressed, Student name-surname and ID, with time-stamp info read from time.ticks_ms(), must be sent to NETPIE 2020 dashboard directly. *This string should not be written on NETPIE shadow.*\n",
    "\n",
    "Development on NETPIE 2020.\n",
    "\n",
    "1.  minimum distance, adctual distance, and alert are written on NETPIE shadow every 2 seconds. Your name-surname, and student ID and time-stamp should not be written on shadow.\n",
    "2. NETPIE dashboard must contain the following widgets\n",
    "- a gauage to display actual distance.\n",
    "- a slider to adjust minimum distance in the range of 5 - 60 cm, with 1 cm step size.\n",
    "- an indicator to show alert status. The light must turn on when actual distance < minumum distance.\n",
    "- a text widget to display the string sent directly from ESP32. The format is something like \"Time-stamp : Name-surname ID.\" For example, \"3310 : Varodom Toochinda 6312345678.\"\n",
    "- a button that duplicates the function of push button on Wokwi; i.e., every time this button is pressed, your name-surname and ID with time-stamp is sent to NETPIE dashboard.\n",
    "\n",
    "You can modify the code from [this baseline project](https://wokwi.com/projects/406627227063083009 \n",
    ") to suit this homework.\n",
    "\n",
    "Watch [this video](https://drive.google.com/file/d/1uuo4AQxcwpt5DpUU5EIEtswBjPtUz2ah/view?usp=sharing) to see expected outcome of this homework.\n",
    "\n"
   ]
  },
  {
   "cell_type": "markdown",
   "metadata": {},
   "source": [
    "Make sure the application works according to the list above, then \n",
    "1. Copy and paste Python code from main.py to the cell below."
   ]
  },
  {
   "cell_type": "code",
   "execution_count": null,
   "metadata": {},
   "outputs": [],
   "source": []
  },
  {
   "cell_type": "markdown",
   "metadata": {},
   "source": [
    "2. Copy JSON code from diagram.json to the cell below."
   ]
  },
  {
   "cell_type": "code",
   "execution_count": null,
   "metadata": {},
   "outputs": [],
   "source": []
  },
  {
   "cell_type": "markdown",
   "metadata": {},
   "source": [
    "3. Click [SHARE] button and paste the link to this cell."
   ]
  },
  {
   "cell_type": "code",
   "execution_count": null,
   "metadata": {},
   "outputs": [],
   "source": []
  },
  {
   "cell_type": "markdown",
   "metadata": {},
   "source": [
    "4. Export your NETPIE dashboard to dashboard-config.json. Then copy all the JSON code and paste to this cell. "
   ]
  },
  {
   "cell_type": "code",
   "execution_count": null,
   "metadata": {},
   "outputs": [],
   "source": []
  },
  {
   "cell_type": "markdown",
   "metadata": {},
   "source": [
    "#### Important  \n",
    "\n",
    "- It is your responsibility to make sure that you fill in all cells in 1 - 4 above, and your code is complete, since your grade depends on it. Even though I cannot access your NETPIE account, I can investigate  your JSON code from dashboard-config.json and grade accordingly. All information from your dashboard is in there.\n",
    "-Do not modify anything in this Wokwi project after you submit this notebook. Failure to do so may result in zero score for this homework. The code you paste in the cells is the one that I will use when there is discrepancy. "
   ]
  },
  {
   "cell_type": "markdown",
   "metadata": {},
   "source": [
    "##### Rev. 1A : October 2024"
   ]
  },
  {
   "cell_type": "code",
   "execution_count": null,
   "metadata": {},
   "outputs": [],
   "source": []
  }
 ],
 "metadata": {
  "kernelspec": {
   "display_name": "Python 3 (ipykernel)",
   "language": "python",
   "name": "python3"
  },
  "language_info": {
   "codemirror_mode": {
    "name": "ipython",
    "version": 3
   },
   "file_extension": ".py",
   "mimetype": "text/x-python",
   "name": "python",
   "nbconvert_exporter": "python",
   "pygments_lexer": "ipython3",
   "version": "3.12.3"
  }
 },
 "nbformat": 4,
 "nbformat_minor": 4
}
