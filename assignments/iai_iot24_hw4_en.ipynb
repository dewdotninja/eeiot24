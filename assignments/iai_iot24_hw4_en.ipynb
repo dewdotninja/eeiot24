{
 "cells": [
  {
   "attachments": {},
   "cell_type": "markdown",
   "metadata": {},
   "source": [
    "<p align=\"left\">\n",
    "<img src=\"https://raw.githubusercontent.com/dewdotninja/exams/main/feng_heading_en.png\" width=400 alt=\"Feng heading\"/>\n",
    "</p>\n",
    "\n",
    "## Homework 4 : \n",
    "<p />01205479 IoT for EE\n",
    "<p />Academic year 2024. First semester.\n"
   ]
  },
  {
   "cell_type": "markdown",
   "metadata": {},
   "source": [
    "Type your name and student ID in the cell below."
   ]
  },
  {
   "cell_type": "code",
   "execution_count": null,
   "metadata": {},
   "outputs": [],
   "source": []
  },
  {
   "cell_type": "markdown",
   "metadata": {},
   "source": [
    "### P1 (10 points)\n",
    "\n",
    "Implement a simple humidity and temperature monitoring application on Wokwi.\n",
    "\n",
    "This device should function as follows:\n",
    "1. Measure humidity and temperature every 2 seconds, then print the values on Serial output.\n",
    "2. Have two variables min_humid and max_temp. Whenever either current humidity is less than min_humid, or current temperature greater than max_temp, or both, an LED is lid to alert the user.\n",
    "3. min_humid and max_temp can be adjusted via command such as\n",
    "```\n",
    "minhumid = xx\n",
    "maxtemp = xx\n",
    "```\n",
    "4. Each time a push button switch is pressed, the printed value of temperature on serial monitor toggles between Celcius and Fahrenheit. The LED alert must still work properly. \n",
    "\n",
    "Watch [this video](https://drive.google.com/file/d/1LSvmL5Lcv6y-HeVeNFjVq2AvSNwDICnp/view?usp=sharing) to see expected outcome of this homework.\n",
    "\n"
   ]
  },
  {
   "cell_type": "markdown",
   "metadata": {},
   "source": [
    "Make sure the application works according to the list above, then \n",
    "1. Copy and paste C code from sketch.ino to the cell below."
   ]
  },
  {
   "cell_type": "code",
   "execution_count": null,
   "metadata": {},
   "outputs": [],
   "source": []
  },
  {
   "cell_type": "markdown",
   "metadata": {},
   "source": [
    "2. Copy JSON code from diagram.json to the cell below."
   ]
  },
  {
   "cell_type": "code",
   "execution_count": null,
   "metadata": {},
   "outputs": [],
   "source": []
  },
  {
   "cell_type": "markdown",
   "metadata": {},
   "source": [
    "3. Click [SHARE] button and paste the link to this cell."
   ]
  },
  {
   "cell_type": "code",
   "execution_count": null,
   "metadata": {},
   "outputs": [],
   "source": []
  },
  {
   "cell_type": "markdown",
   "metadata": {},
   "source": [
    "**Important :** Do not modify anything in this Wokwi project after you submit this notebook. Failure to do so may result in zero score for this homework. The code you paste in the cells is the one that I will use when there is discrepancy. "
   ]
  },
  {
   "cell_type": "markdown",
   "metadata": {},
   "source": [
    "##### Rev. 1A : September 2024"
   ]
  },
  {
   "cell_type": "code",
   "execution_count": null,
   "metadata": {},
   "outputs": [],
   "source": []
  }
 ],
 "metadata": {
  "kernelspec": {
   "display_name": "Python 3 (ipykernel)",
   "language": "python",
   "name": "python3"
  },
  "language_info": {
   "codemirror_mode": {
    "name": "ipython",
    "version": 3
   },
   "file_extension": ".py",
   "mimetype": "text/x-python",
   "name": "python",
   "nbconvert_exporter": "python",
   "pygments_lexer": "ipython3",
   "version": "3.12.3"
  }
 },
 "nbformat": 4,
 "nbformat_minor": 4
}
