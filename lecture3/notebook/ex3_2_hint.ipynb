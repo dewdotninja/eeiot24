{
 "cells": [
  {
   "cell_type": "markdown",
   "metadata": {},
   "source": [
    "<h3>Signal Conditioning using Op Amp Example</h3>\n",
    "<p />Suppose we want to design a level shifter circuit shown in Figure 1, \n",
    "as a frontend for a DC motor drive. The\n",
    "input to this circuit has voltage range $\\pm 10$ volts, and the output has range 0 - 3.3 volts \n",
    "suitable to feed into an ADC input of MCU.\n",
    "So the mapping is\n",
    "\n",
    "| Input | Output |\n",
    "| --- | --- |\n",
    "| 10 V | 3.3 V |\n",
    "| 0 V | 1.65 V |\n",
    "| -10V | 0 V |\n"
   ]
  },
  {
   "cell_type": "markdown",
   "metadata": {},
   "source": [
    "![\"fig 1\"](https://raw.githubusercontent.com/dewdotninja/sharing-github/master/iaiiot/ex3_2_fig.png)\n",
    "\n",
    "<b>Figure 1 Level shifter circuit</b>\n",
    "\n",
    "<p />Our job is to select the values for $R_1 – R_4$, and $V_B$ appropriately. "
   ]
  },
  {
   "cell_type": "markdown",
   "metadata": {},
   "source": [
    "<h3>Solution</h3>\n",
    "<p />The superposition principle is used in the design. Let $V_{in} = 0$ for the moment. We\n",
    "want to create the 1.65 V DC bias that the AC command signal will ride on. This can be done by\n",
    "selecting \n",
    "$$\n",
    "R1 = R2 \n",
    "$$\n",
    "and \n",
    "$$\n",
    "V_B = -1.65 V\n",
    "$$\n",
    "Now, we want to make the AC output part of the op-amp\n",
    "swing within $\\pm 1.65$ V range. Observe that with $V_B = 0, R1 = R2$ yields the non-inverting \n",
    "gain of 2. So the signal at non-inverting pin must equal $\\pm 0.825$ V. Using the voltage divider \n",
    "formula, we have\n",
    "\n",
    "$$\n",
    "\\frac{R_4}{R_3 + R_4}(10) = 0.825\n",
    "$$\n",
    "\n",
    "Hence,\n",
    "\n",
    "$$\n",
    "R_3 = 11.12R_4\n",
    "$$\n",
    "\n",
    "<p />Verify your design in the cell below."
   ]
  },
  {
   "cell_type": "code",
   "execution_count": null,
   "metadata": {},
   "outputs": [],
   "source": [
    "import matplotlib.pyplot as plt\n",
    "import numpy as np"
   ]
  },
  {
   "cell_type": "code",
   "execution_count": null,
   "metadata": {},
   "outputs": [],
   "source": [
    "def level_shifter_verify(R1,R2,R3,R4,Vb, Vi_min, Vi_max):\n",
    "    tvec = np.arange(0,1,0.001)\n",
    "    w = 10\n",
    "    Vi_avg = 0.5*(Vi_max + Vi_min)\n",
    "    Vi_peak = Vi_max - Vi_avg\n",
    "    Vi = Vi_peak*np.sin(w*tvec)+Vi_avg # create sin-wave input\n",
    "    Vi_min_txt = \"min={:.2f} Volts\".format(Vi_min)\n",
    "    Vi_max_txt = \"max={:.2f} Volts\".format(Vi_max)\n",
    "\n",
    "    rho = R4/(R3+R4)\n",
    "    k = R2/R1\n",
    "\n",
    "    Vo = rho*(1+k)*Vi - k*Vb\n",
    "    Vo_max = max(Vo)\n",
    "    Vo_min = min(Vo)\n",
    "    Vo_min_txt = \"min={:.2f} Volts\".format(Vo_min)\n",
    "    Vo_max_txt = \"max={:.2f} Volts\".format(Vo_max)\n",
    "\n",
    "    fig, (ax1, ax2) = plt.subplots(2,figsize=(8,8))\n",
    "    fig.suptitle('Level shifter design verification')\n",
    "    ax1.plot(tvec,Vi,'b-')\n",
    "    ax1.grid(True)\n",
    "    ax1.set_ylabel('$V_{in}(t)$')\n",
    "    ax1.text(0.52,Vi_min,Vi_min_txt)\n",
    "    ax1.text(0.2,Vi_max,Vi_max_txt)\n",
    "    \n",
    "    ax2.plot(tvec,Vo,'r-')\n",
    "    ax2.set_xlabel('time (s)')\n",
    "    ax2.set_ylabel('$V_{out}(t)$')\n",
    "    ax2.grid(True)\n",
    "    ax2.text(0.52,Vo_min,Vo_min_txt)\n",
    "    ax2.text(0.2,Vo_max,Vo_max_txt)\n"
   ]
  },
  {
   "cell_type": "code",
   "execution_count": null,
   "metadata": {},
   "outputs": [],
   "source": [
    "Vb = # from your design \n",
    "R1 = # from your design\n",
    "R2 = # from your design\n",
    "R3 = # from your design\n",
    "R4 = # from your design\n",
    "Vi_min = -10\n",
    "Vi_max = 10\n",
    "level_shifter_verify(R1,R2,R3,R4,Vb, Vi_min, Vi_max)"
   ]
  },
  {
   "cell_type": "code",
   "execution_count": null,
   "metadata": {},
   "outputs": [],
   "source": []
  },
  {
   "cell_type": "code",
   "execution_count": null,
   "metadata": {},
   "outputs": [],
   "source": []
  }
 ],
 "metadata": {
  "kernelspec": {
   "display_name": "Python 3 (ipykernel)",
   "language": "python",
   "name": "python3"
  },
  "language_info": {
   "codemirror_mode": {
    "name": "ipython",
    "version": 3
   },
   "file_extension": ".py",
   "mimetype": "text/x-python",
   "name": "python",
   "nbconvert_exporter": "python",
   "pygments_lexer": "ipython3",
   "version": "3.12.3"
  }
 },
 "nbformat": 4,
 "nbformat_minor": 4
}
